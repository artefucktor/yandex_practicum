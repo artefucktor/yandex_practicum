{
 "cells": [
  {
   "cell_type": "markdown",
   "metadata": {
    "toc": true
   },
   "source": [
    "<h1>Содержание<span class=\"tocSkip\"></span></h1>\n",
    "<div class=\"toc\"><ul class=\"toc-item\"><li><span><a href=\"#Введение\" data-toc-modified-id=\"Введение-1\"><span class=\"toc-item-num\">1&nbsp;&nbsp;</span>Введение</a></span></li><li><span><a href=\"#Подготовка-данных\" data-toc-modified-id=\"Подготовка-данных-2\"><span class=\"toc-item-num\">2&nbsp;&nbsp;</span>Подготовка данных</a></span><ul class=\"toc-item\"><li><span><a href=\"#Загрузка-библиотек\" data-toc-modified-id=\"Загрузка-библиотек-2.1\"><span class=\"toc-item-num\">2.1&nbsp;&nbsp;</span>Загрузка библиотек</a></span></li><li><span><a href=\"#Загрузка-данных\" data-toc-modified-id=\"Загрузка-данных-2.2\"><span class=\"toc-item-num\">2.2&nbsp;&nbsp;</span>Загрузка данных</a></span></li><li><span><a href=\"#Очистка-данных\" data-toc-modified-id=\"Очистка-данных-2.3\"><span class=\"toc-item-num\">2.3&nbsp;&nbsp;</span>Очистка данных</a></span></li><li><span><a href=\"#Числовые-данные\" data-toc-modified-id=\"Числовые-данные-2.4\"><span class=\"toc-item-num\">2.4&nbsp;&nbsp;</span>Числовые данные</a></span></li><li><span><a href=\"#Заполнение-пропущенных-данных\" data-toc-modified-id=\"Заполнение-пропущенных-данных-2.5\"><span class=\"toc-item-num\">2.5&nbsp;&nbsp;</span>Заполнение пропущенных данных</a></span></li><li><span><a href=\"#Подготовка-признаков\" data-toc-modified-id=\"Подготовка-признаков-2.6\"><span class=\"toc-item-num\">2.6&nbsp;&nbsp;</span>Подготовка признаков</a></span></li></ul></li><li><span><a href=\"#Исследование-задачи\" data-toc-modified-id=\"Исследование-задачи-3\"><span class=\"toc-item-num\">3&nbsp;&nbsp;</span>Исследование задачи</a></span><ul class=\"toc-item\"><li><span><a href=\"#Проверка-моделей\" data-toc-modified-id=\"Проверка-моделей-3.1\"><span class=\"toc-item-num\">3.1&nbsp;&nbsp;</span>Проверка моделей</a></span><ul class=\"toc-item\"><li><span><a href=\"#Случайный-лес\" data-toc-modified-id=\"Случайный-лес-3.1.1\"><span class=\"toc-item-num\">3.1.1&nbsp;&nbsp;</span>Случайный лес</a></span></li><li><span><a href=\"#Логистическая-регрессия\" data-toc-modified-id=\"Логистическая-регрессия-3.1.2\"><span class=\"toc-item-num\">3.1.2&nbsp;&nbsp;</span>Логистическая регрессия</a></span></li><li><span><a href=\"#Выбор-наилучшей-модели\" data-toc-modified-id=\"Выбор-наилучшей-модели-3.1.3\"><span class=\"toc-item-num\">3.1.3&nbsp;&nbsp;</span>Выбор наилучшей модели</a></span></li></ul></li></ul></li><li><span><a href=\"#Борьба-с-дисбалансом\" data-toc-modified-id=\"Борьба-с-дисбалансом-4\"><span class=\"toc-item-num\">4&nbsp;&nbsp;</span>Борьба с дисбалансом</a></span><ul class=\"toc-item\"><li><span><a href=\"#Увеличение-выборки\" data-toc-modified-id=\"Увеличение-выборки-4.1\"><span class=\"toc-item-num\">4.1&nbsp;&nbsp;</span>Увеличение выборки</a></span><ul class=\"toc-item\"><li><span><a href=\"#Случайный-лес-upsample\" data-toc-modified-id=\"Случайный-лес-upsample-4.1.1\"><span class=\"toc-item-num\">4.1.1&nbsp;&nbsp;</span>Случайный лес upsample</a></span></li><li><span><a href=\"#Логистическая-регрессия-upsample\" data-toc-modified-id=\"Логистическая-регрессия-upsample-4.1.2\"><span class=\"toc-item-num\">4.1.2&nbsp;&nbsp;</span>Логистическая регрессия upsample</a></span></li><li><span><a href=\"#Результаты-увеличения-выборки\" data-toc-modified-id=\"Результаты-увеличения-выборки-4.1.3\"><span class=\"toc-item-num\">4.1.3&nbsp;&nbsp;</span>Результаты увеличения выборки</a></span></li></ul></li><li><span><a href=\"#Уменьшение-выборки\" data-toc-modified-id=\"Уменьшение-выборки-4.2\"><span class=\"toc-item-num\">4.2&nbsp;&nbsp;</span>Уменьшение выборки</a></span><ul class=\"toc-item\"><li><span><a href=\"#Случайный-лес-downsample\" data-toc-modified-id=\"Случайный-лес-downsample-4.2.1\"><span class=\"toc-item-num\">4.2.1&nbsp;&nbsp;</span>Случайный лес downsample</a></span></li><li><span><a href=\"#Логистическая-регрессия-downsample\" data-toc-modified-id=\"Логистическая-регрессия-downsample-4.2.2\"><span class=\"toc-item-num\">4.2.2&nbsp;&nbsp;</span>Логистическая регрессия downsample</a></span></li></ul></li></ul></li><li><span><a href=\"#Тестирование-модели\" data-toc-modified-id=\"Тестирование-модели-5\"><span class=\"toc-item-num\">5&nbsp;&nbsp;</span>Тестирование модели</a></span><ul class=\"toc-item\"><li><span><a href=\"#Итоги\" data-toc-modified-id=\"Итоги-5.1\"><span class=\"toc-item-num\">5.1&nbsp;&nbsp;</span>Итоги</a></span></li></ul></li></ul></div>"
   ]
  },
  {
   "cell_type": "markdown",
   "metadata": {},
   "source": [
    "Проект на GitHub https://github.com/artefucktor/yandex_practicum"
   ]
  },
  {
   "cell_type": "markdown",
   "metadata": {},
   "source": [
    "# Отток клиентов"
   ]
  },
  {
   "cell_type": "markdown",
   "metadata": {},
   "source": [
    "Из «Бета-Банка» стали уходить клиенты. Каждый месяц. Немного, но заметно. Банковские маркетологи посчитали: сохранять текущих клиентов дешевле, чем привлекать новых.\n",
    "\n",
    "Нужно спрогнозировать, уйдёт клиент из банка в ближайшее время или нет. Вам предоставлены исторические данные о поведении клиентов и расторжении договоров с банком. \n",
    "\n",
    "Постройте модель с предельно большим значением *F1*-меры. Чтобы сдать проект успешно, нужно довести метрику до 0.59. Проверьте *F1*-меру на тестовой выборке самостоятельно.\n",
    "\n",
    "Дополнительно измеряйте *AUC-ROC*, сравнивайте её значение с *F1*-мерой.\n",
    "\n",
    "Источник данных: [https://www.kaggle.com/barelydedicated/bank-customer-churn-modeling](https://www.kaggle.com/barelydedicated/bank-customer-churn-modeling)"
   ]
  },
  {
   "cell_type": "markdown",
   "metadata": {},
   "source": [
    "## Введение"
   ]
  },
  {
   "cell_type": "markdown",
   "metadata": {},
   "source": [
    "**Цель** данного исследования – создание модели для прогноза ухода банковских клиентов.\n",
    "\n",
    "**Задачи**\n",
    "- загрузка и изучение данных\n",
    "    - заполнение пропусков\n",
    "    - очистка данных\n",
    "    - кодирование признаков\n",
    "- подготовка моделей\n",
    "    - разделение на выборки – обучающую, валидационную и тестовую\n",
    "    - создание и обучение базовых моделей\n",
    "    - сравнительный анализ моделей\n",
    "- коррекция дисбаланса классов\n",
    "    - с помощью взвешивания классов\n",
    "    - с помощью увеличения выборки\n",
    "    - с помощью уменьшения выборки\n",
    "- выбор лучшей модели\n",
    "    - сравнение и анализ полученных испытаний\n",
    "    - проверка на тестовой выборке"
   ]
  },
  {
   "cell_type": "markdown",
   "metadata": {},
   "source": [
    "**Признаки**\n",
    "- RowNumber — индекс строки в данных\n",
    "- CustomerId — уникальный идентификатор клиента\n",
    "- Surname — фамилия\n",
    "- CreditScore — кредитный рейтинг\n",
    "- Geography — страна проживания\n",
    "- Gender — пол\n",
    "- Age — возраст\n",
    "- Tenure — сколько лет человек является клиентом банка\n",
    "- Balance — баланс на счёте\n",
    "- NumOfProducts — количество продуктов банка, используемых клиентом\n",
    "- HasCrCard — наличие кредитной карты\n",
    "- IsActiveMember — активность клиента\n",
    "- EstimatedSalary — предполагаемая зарплата\n",
    "\n",
    "**Целевой признак**\n",
    "- Exited — факт ухода клиента\n"
   ]
  },
  {
   "cell_type": "markdown",
   "metadata": {},
   "source": [
    "## Подготовка данных"
   ]
  },
  {
   "cell_type": "markdown",
   "metadata": {},
   "source": [
    "### Загрузка библиотек"
   ]
  },
  {
   "cell_type": "code",
   "execution_count": 1,
   "metadata": {},
   "outputs": [],
   "source": [
    "import pandas as pd\n",
    "import numpy as np\n",
    "import matplotlib.pyplot as plt\n",
    "from sklearn.model_selection import train_test_split,GridSearchCV,RandomizedSearchCV\n",
    "from sklearn.ensemble import RandomForestClassifier\n",
    "from sklearn.linear_model import LogisticRegression\n",
    "from sklearn.metrics import accuracy_score,precision_score,recall_score,f1_score,roc_auc_score,precision_recall_curve,roc_curve\n",
    "from sklearn.utils import shuffle\n",
    "from sklearn.preprocessing import OneHotEncoder,StandardScaler\n",
    "\n",
    "import warnings \n",
    "warnings.filterwarnings('ignore') \n",
    "\n",
    "random_state = 42"
   ]
  },
  {
   "cell_type": "markdown",
   "metadata": {},
   "source": [
    "### Загрузка данных"
   ]
  },
  {
   "cell_type": "markdown",
   "metadata": {},
   "source": [
    "Прочитаем датасет из файла и посмотрим на его структуру"
   ]
  },
  {
   "cell_type": "code",
   "execution_count": 2,
   "metadata": {},
   "outputs": [
    {
     "name": "stdout",
     "output_type": "stream",
     "text": [
      "<class 'pandas.core.frame.DataFrame'>\n",
      "RangeIndex: 10000 entries, 0 to 9999\n",
      "Data columns (total 14 columns):\n",
      " #   Column           Non-Null Count  Dtype  \n",
      "---  ------           --------------  -----  \n",
      " 0   RowNumber        10000 non-null  int64  \n",
      " 1   CustomerId       10000 non-null  int64  \n",
      " 2   Surname          10000 non-null  object \n",
      " 3   CreditScore      10000 non-null  int64  \n",
      " 4   Geography        10000 non-null  object \n",
      " 5   Gender           10000 non-null  object \n",
      " 6   Age              10000 non-null  int64  \n",
      " 7   Tenure           9091 non-null   float64\n",
      " 8   Balance          10000 non-null  float64\n",
      " 9   NumOfProducts    10000 non-null  int64  \n",
      " 10  HasCrCard        10000 non-null  int64  \n",
      " 11  IsActiveMember   10000 non-null  int64  \n",
      " 12  EstimatedSalary  10000 non-null  float64\n",
      " 13  Exited           10000 non-null  int64  \n",
      "dtypes: float64(3), int64(8), object(3)\n",
      "memory usage: 1.1+ MB\n"
     ]
    }
   ],
   "source": [
    "try:\n",
    "    df = pd.read_csv('datasets/Churn.csv')\n",
    "except:\n",
    "    df = pd.read_csv('/datasets/Churn.csv')\n",
    "df.info()"
   ]
  },
  {
   "cell_type": "markdown",
   "metadata": {},
   "source": [
    "В Tenure есть пропуски, остальные даные заполнены полностью.\n",
    "\n",
    "Посмотрим на представленные данные"
   ]
  },
  {
   "cell_type": "code",
   "execution_count": 3,
   "metadata": {
    "scrolled": false
   },
   "outputs": [
    {
     "data": {
      "text/html": [
       "<div>\n",
       "<style scoped>\n",
       "    .dataframe tbody tr th:only-of-type {\n",
       "        vertical-align: middle;\n",
       "    }\n",
       "\n",
       "    .dataframe tbody tr th {\n",
       "        vertical-align: top;\n",
       "    }\n",
       "\n",
       "    .dataframe thead th {\n",
       "        text-align: right;\n",
       "    }\n",
       "</style>\n",
       "<table border=\"1\" class=\"dataframe\">\n",
       "  <thead>\n",
       "    <tr style=\"text-align: right;\">\n",
       "      <th></th>\n",
       "      <th>RowNumber</th>\n",
       "      <th>CustomerId</th>\n",
       "      <th>Surname</th>\n",
       "      <th>CreditScore</th>\n",
       "      <th>Geography</th>\n",
       "      <th>Gender</th>\n",
       "      <th>Age</th>\n",
       "      <th>Tenure</th>\n",
       "      <th>Balance</th>\n",
       "      <th>NumOfProducts</th>\n",
       "      <th>HasCrCard</th>\n",
       "      <th>IsActiveMember</th>\n",
       "      <th>EstimatedSalary</th>\n",
       "      <th>Exited</th>\n",
       "    </tr>\n",
       "  </thead>\n",
       "  <tbody>\n",
       "    <tr>\n",
       "      <th>0</th>\n",
       "      <td>1</td>\n",
       "      <td>15634602</td>\n",
       "      <td>Hargrave</td>\n",
       "      <td>619</td>\n",
       "      <td>France</td>\n",
       "      <td>Female</td>\n",
       "      <td>42</td>\n",
       "      <td>2.0</td>\n",
       "      <td>0.00</td>\n",
       "      <td>1</td>\n",
       "      <td>1</td>\n",
       "      <td>1</td>\n",
       "      <td>101348.88</td>\n",
       "      <td>1</td>\n",
       "    </tr>\n",
       "    <tr>\n",
       "      <th>1</th>\n",
       "      <td>2</td>\n",
       "      <td>15647311</td>\n",
       "      <td>Hill</td>\n",
       "      <td>608</td>\n",
       "      <td>Spain</td>\n",
       "      <td>Female</td>\n",
       "      <td>41</td>\n",
       "      <td>1.0</td>\n",
       "      <td>83807.86</td>\n",
       "      <td>1</td>\n",
       "      <td>0</td>\n",
       "      <td>1</td>\n",
       "      <td>112542.58</td>\n",
       "      <td>0</td>\n",
       "    </tr>\n",
       "    <tr>\n",
       "      <th>2</th>\n",
       "      <td>3</td>\n",
       "      <td>15619304</td>\n",
       "      <td>Onio</td>\n",
       "      <td>502</td>\n",
       "      <td>France</td>\n",
       "      <td>Female</td>\n",
       "      <td>42</td>\n",
       "      <td>8.0</td>\n",
       "      <td>159660.80</td>\n",
       "      <td>3</td>\n",
       "      <td>1</td>\n",
       "      <td>0</td>\n",
       "      <td>113931.57</td>\n",
       "      <td>1</td>\n",
       "    </tr>\n",
       "    <tr>\n",
       "      <th>3</th>\n",
       "      <td>4</td>\n",
       "      <td>15701354</td>\n",
       "      <td>Boni</td>\n",
       "      <td>699</td>\n",
       "      <td>France</td>\n",
       "      <td>Female</td>\n",
       "      <td>39</td>\n",
       "      <td>1.0</td>\n",
       "      <td>0.00</td>\n",
       "      <td>2</td>\n",
       "      <td>0</td>\n",
       "      <td>0</td>\n",
       "      <td>93826.63</td>\n",
       "      <td>0</td>\n",
       "    </tr>\n",
       "    <tr>\n",
       "      <th>4</th>\n",
       "      <td>5</td>\n",
       "      <td>15737888</td>\n",
       "      <td>Mitchell</td>\n",
       "      <td>850</td>\n",
       "      <td>Spain</td>\n",
       "      <td>Female</td>\n",
       "      <td>43</td>\n",
       "      <td>2.0</td>\n",
       "      <td>125510.82</td>\n",
       "      <td>1</td>\n",
       "      <td>1</td>\n",
       "      <td>1</td>\n",
       "      <td>79084.10</td>\n",
       "      <td>0</td>\n",
       "    </tr>\n",
       "  </tbody>\n",
       "</table>\n",
       "</div>"
      ],
      "text/plain": [
       "   RowNumber  CustomerId   Surname  CreditScore Geography  Gender  Age  \\\n",
       "0          1    15634602  Hargrave          619    France  Female   42   \n",
       "1          2    15647311      Hill          608     Spain  Female   41   \n",
       "2          3    15619304      Onio          502    France  Female   42   \n",
       "3          4    15701354      Boni          699    France  Female   39   \n",
       "4          5    15737888  Mitchell          850     Spain  Female   43   \n",
       "\n",
       "   Tenure    Balance  NumOfProducts  HasCrCard  IsActiveMember  \\\n",
       "0     2.0       0.00              1          1               1   \n",
       "1     1.0   83807.86              1          0               1   \n",
       "2     8.0  159660.80              3          1               0   \n",
       "3     1.0       0.00              2          0               0   \n",
       "4     2.0  125510.82              1          1               1   \n",
       "\n",
       "   EstimatedSalary  Exited  \n",
       "0        101348.88       1  \n",
       "1        112542.58       0  \n",
       "2        113931.57       1  \n",
       "3         93826.63       0  \n",
       "4         79084.10       0  "
      ]
     },
     "execution_count": 3,
     "metadata": {},
     "output_type": "execute_result"
    }
   ],
   "source": [
    "df.head()"
   ]
  },
  {
   "cell_type": "markdown",
   "metadata": {},
   "source": [
    "### Очистка данных"
   ]
  },
  {
   "cell_type": "markdown",
   "metadata": {},
   "source": [
    "Проверим, нет ли дубликатов и удалим ненужные колонки\n",
    "- номер строки\n",
    "- идентификатор клиента\n",
    "- фамилию"
   ]
  },
  {
   "cell_type": "code",
   "execution_count": 4,
   "metadata": {
    "scrolled": true
   },
   "outputs": [
    {
     "name": "stdout",
     "output_type": "stream",
     "text": [
      "Дубликаты в CustomerId    0\n",
      "Дубликаты в RowNumber     0\n"
     ]
    }
   ],
   "source": [
    "col_width = 25\n",
    "print(f\"{'Дубликаты в CustomerId':<{col_width}}\", df.CustomerId.duplicated().sum())\n",
    "print(f\"{'Дубликаты в RowNumber':<{col_width}}\", df.RowNumber.duplicated().sum())"
   ]
  },
  {
   "cell_type": "code",
   "execution_count": 5,
   "metadata": {},
   "outputs": [],
   "source": [
    "df.drop(['RowNumber','CustomerId','Surname'],axis='columns',inplace=True)"
   ]
  },
  {
   "cell_type": "markdown",
   "metadata": {},
   "source": [
    "### Числовые данные"
   ]
  },
  {
   "cell_type": "code",
   "execution_count": 6,
   "metadata": {
    "scrolled": true
   },
   "outputs": [
    {
     "data": {
      "text/html": [
       "<div>\n",
       "<style scoped>\n",
       "    .dataframe tbody tr th:only-of-type {\n",
       "        vertical-align: middle;\n",
       "    }\n",
       "\n",
       "    .dataframe tbody tr th {\n",
       "        vertical-align: top;\n",
       "    }\n",
       "\n",
       "    .dataframe thead th {\n",
       "        text-align: right;\n",
       "    }\n",
       "</style>\n",
       "<table border=\"1\" class=\"dataframe\">\n",
       "  <thead>\n",
       "    <tr style=\"text-align: right;\">\n",
       "      <th></th>\n",
       "      <th>CreditScore</th>\n",
       "      <th>Age</th>\n",
       "      <th>Tenure</th>\n",
       "      <th>Balance</th>\n",
       "      <th>NumOfProducts</th>\n",
       "      <th>HasCrCard</th>\n",
       "      <th>IsActiveMember</th>\n",
       "      <th>EstimatedSalary</th>\n",
       "      <th>Exited</th>\n",
       "    </tr>\n",
       "  </thead>\n",
       "  <tbody>\n",
       "    <tr>\n",
       "      <th>count</th>\n",
       "      <td>10000.000000</td>\n",
       "      <td>10000.000000</td>\n",
       "      <td>9091.000000</td>\n",
       "      <td>10000.000000</td>\n",
       "      <td>10000.000000</td>\n",
       "      <td>10000.00000</td>\n",
       "      <td>10000.000000</td>\n",
       "      <td>10000.000000</td>\n",
       "      <td>10000.000000</td>\n",
       "    </tr>\n",
       "    <tr>\n",
       "      <th>mean</th>\n",
       "      <td>650.528800</td>\n",
       "      <td>38.921800</td>\n",
       "      <td>4.997690</td>\n",
       "      <td>76485.889288</td>\n",
       "      <td>1.530200</td>\n",
       "      <td>0.70550</td>\n",
       "      <td>0.515100</td>\n",
       "      <td>100090.239881</td>\n",
       "      <td>0.203700</td>\n",
       "    </tr>\n",
       "    <tr>\n",
       "      <th>std</th>\n",
       "      <td>96.653299</td>\n",
       "      <td>10.487806</td>\n",
       "      <td>2.894723</td>\n",
       "      <td>62397.405202</td>\n",
       "      <td>0.581654</td>\n",
       "      <td>0.45584</td>\n",
       "      <td>0.499797</td>\n",
       "      <td>57510.492818</td>\n",
       "      <td>0.402769</td>\n",
       "    </tr>\n",
       "    <tr>\n",
       "      <th>min</th>\n",
       "      <td>350.000000</td>\n",
       "      <td>18.000000</td>\n",
       "      <td>0.000000</td>\n",
       "      <td>0.000000</td>\n",
       "      <td>1.000000</td>\n",
       "      <td>0.00000</td>\n",
       "      <td>0.000000</td>\n",
       "      <td>11.580000</td>\n",
       "      <td>0.000000</td>\n",
       "    </tr>\n",
       "    <tr>\n",
       "      <th>25%</th>\n",
       "      <td>584.000000</td>\n",
       "      <td>32.000000</td>\n",
       "      <td>2.000000</td>\n",
       "      <td>0.000000</td>\n",
       "      <td>1.000000</td>\n",
       "      <td>0.00000</td>\n",
       "      <td>0.000000</td>\n",
       "      <td>51002.110000</td>\n",
       "      <td>0.000000</td>\n",
       "    </tr>\n",
       "    <tr>\n",
       "      <th>50%</th>\n",
       "      <td>652.000000</td>\n",
       "      <td>37.000000</td>\n",
       "      <td>5.000000</td>\n",
       "      <td>97198.540000</td>\n",
       "      <td>1.000000</td>\n",
       "      <td>1.00000</td>\n",
       "      <td>1.000000</td>\n",
       "      <td>100193.915000</td>\n",
       "      <td>0.000000</td>\n",
       "    </tr>\n",
       "    <tr>\n",
       "      <th>75%</th>\n",
       "      <td>718.000000</td>\n",
       "      <td>44.000000</td>\n",
       "      <td>7.000000</td>\n",
       "      <td>127644.240000</td>\n",
       "      <td>2.000000</td>\n",
       "      <td>1.00000</td>\n",
       "      <td>1.000000</td>\n",
       "      <td>149388.247500</td>\n",
       "      <td>0.000000</td>\n",
       "    </tr>\n",
       "    <tr>\n",
       "      <th>max</th>\n",
       "      <td>850.000000</td>\n",
       "      <td>92.000000</td>\n",
       "      <td>10.000000</td>\n",
       "      <td>250898.090000</td>\n",
       "      <td>4.000000</td>\n",
       "      <td>1.00000</td>\n",
       "      <td>1.000000</td>\n",
       "      <td>199992.480000</td>\n",
       "      <td>1.000000</td>\n",
       "    </tr>\n",
       "  </tbody>\n",
       "</table>\n",
       "</div>"
      ],
      "text/plain": [
       "        CreditScore           Age       Tenure        Balance  NumOfProducts  \\\n",
       "count  10000.000000  10000.000000  9091.000000   10000.000000   10000.000000   \n",
       "mean     650.528800     38.921800     4.997690   76485.889288       1.530200   \n",
       "std       96.653299     10.487806     2.894723   62397.405202       0.581654   \n",
       "min      350.000000     18.000000     0.000000       0.000000       1.000000   \n",
       "25%      584.000000     32.000000     2.000000       0.000000       1.000000   \n",
       "50%      652.000000     37.000000     5.000000   97198.540000       1.000000   \n",
       "75%      718.000000     44.000000     7.000000  127644.240000       2.000000   \n",
       "max      850.000000     92.000000    10.000000  250898.090000       4.000000   \n",
       "\n",
       "         HasCrCard  IsActiveMember  EstimatedSalary        Exited  \n",
       "count  10000.00000    10000.000000     10000.000000  10000.000000  \n",
       "mean       0.70550        0.515100    100090.239881      0.203700  \n",
       "std        0.45584        0.499797     57510.492818      0.402769  \n",
       "min        0.00000        0.000000        11.580000      0.000000  \n",
       "25%        0.00000        0.000000     51002.110000      0.000000  \n",
       "50%        1.00000        1.000000    100193.915000      0.000000  \n",
       "75%        1.00000        1.000000    149388.247500      0.000000  \n",
       "max        1.00000        1.000000    199992.480000      1.000000  "
      ]
     },
     "execution_count": 6,
     "metadata": {},
     "output_type": "execute_result"
    }
   ],
   "source": [
    "df.describe()"
   ]
  },
  {
   "cell_type": "markdown",
   "metadata": {},
   "source": [
    "Никаких выдающихся или неадекватных значений в числовых данных не наблюдается\n",
    "\n",
    "Построим гистограммы для визуального контроля\n"
   ]
  },
  {
   "cell_type": "code",
   "execution_count": 7,
   "metadata": {},
   "outputs": [
    {
     "data": {
      "image/png": "[encoded data removed]",
      "text/plain": [
       "<Figure size 1080x720 with 9 Axes>"
      ]
     },
     "metadata": {
      "needs_background": "light"
     },
     "output_type": "display_data"
    }
   ],
   "source": [
    "df.hist(figsize=(15, 10))\n",
    "plt.tight_layout()\n",
    "plt.show()"
   ]
  },
  {
   "cell_type": "markdown",
   "metadata": {},
   "source": [
    "Неестественно выглядит колонка EstimatedSalary. Вероятно, потому что это не реальное значение, а искуственно созданное как следует из описания (предполагаемая зарплата)\n",
    "\n",
    "В остальном ничего необычного. "
   ]
  },
  {
   "cell_type": "markdown",
   "metadata": {},
   "source": [
    "### Заполнение пропущенных данных"
   ]
  },
  {
   "cell_type": "code",
   "execution_count": 8,
   "metadata": {},
   "outputs": [
    {
     "name": "stdout",
     "output_type": "stream",
     "text": [
      "Пропущенные значения в Tenure 909\n",
      "Доля пропущенных значений 9.09 %\n"
     ]
    }
   ],
   "source": [
    "print(f\"{'Пропущенные значения в Tenure':<{col_width}}\", df.Tenure.isna().sum())\n",
    "print(f\"{'Доля пропущенных значений':<{col_width}}\", df.Tenure.isna().sum()/len(df)*100, \"%\")\n"
   ]
  },
  {
   "cell_type": "markdown",
   "metadata": {},
   "source": [
    "В колонке Tenure (сколько лет человек является клиентом банка) есть 909 пропущенных значений. Проверим, что это за клиенты и решим удалять их или заполнить например медианой.\n",
    "\n",
    "Построим гистограммы по числовым данным."
   ]
  },
  {
   "cell_type": "code",
   "execution_count": 9,
   "metadata": {},
   "outputs": [
    {
     "data": {
      "image/png": "[encoded data removed]",
      "text/plain": [
       "<Figure size 1080x720 with 9 Axes>"
      ]
     },
     "metadata": {
      "needs_background": "light"
     },
     "output_type": "display_data"
    }
   ],
   "source": [
    "df.loc[df.Tenure.isna()].hist(figsize=(15, 10))\n",
    "plt.tight_layout()\n",
    "plt.show()"
   ]
  },
  {
   "cell_type": "code",
   "execution_count": 10,
   "metadata": {},
   "outputs": [
    {
     "name": "stdout",
     "output_type": "stream",
     "text": [
      "Медианное количество лет клиентом 5.0\n"
     ]
    }
   ],
   "source": [
    "print(\"Медианное количество лет клиентом\",df.Tenure.median())\n"
   ]
  },
  {
   "cell_type": "markdown",
   "metadata": {},
   "source": [
    "Посмотрим, как выглядит клиент с медианным Tenure. Построим гистограммы и сравним с клиентами с пропущенным Tenure"
   ]
  },
  {
   "cell_type": "code",
   "execution_count": 11,
   "metadata": {},
   "outputs": [
    {
     "data": {
      "image/png": "[encoded data removed]",
      "text/plain": [
       "<Figure size 1080x720 with 9 Axes>"
      ]
     },
     "metadata": {
      "needs_background": "light"
     },
     "output_type": "display_data"
    }
   ],
   "source": [
    "df.loc[df.Tenure == df.Tenure.median()].hist(figsize=(15, 10))\n",
    "plt.tight_layout()\n",
    "plt.show()"
   ]
  },
  {
   "cell_type": "markdown",
   "metadata": {},
   "source": [
    "Ничего выдающегося не наблюдается. По гистограммам клиенты с пропущенным Tenure схожи с клиентами с медианным 5-летним Tenure.\n",
    "\n",
    "Похоже, пропуски в Tenure можно заполнить медианным значением."
   ]
  },
  {
   "cell_type": "code",
   "execution_count": 12,
   "metadata": {},
   "outputs": [],
   "source": [
    "df.Tenure.fillna(df.Tenure.median(),inplace=True)"
   ]
  },
  {
   "cell_type": "markdown",
   "metadata": {},
   "source": [
    "### Подготовка признаков"
   ]
  },
  {
   "cell_type": "markdown",
   "metadata": {},
   "source": [
    "- Gender, Geography – категориальные в строках, требуют кодирования\n",
    "- CreditScore, Age, Balance, EstimatedSalary – числовые значения, оставляем как есть\n",
    "- Tenure, NumOfProducts – числовые, очень ограниченные, тоже оставляем.\n",
    "- HasCrCard, IsActiveMember, Exited – категориальные, уже закодированные бинарные 0 и 1"
   ]
  },
  {
   "cell_type": "markdown",
   "metadata": {},
   "source": [
    "Проверим на возможные неявные дубликаты, заодно проверим как распределены данные"
   ]
  },
  {
   "cell_type": "code",
   "execution_count": 13,
   "metadata": {
    "scrolled": true
   },
   "outputs": [
    {
     "name": "stdout",
     "output_type": "stream",
     "text": [
      "География\n",
      " France     5014\n",
      "Germany    2509\n",
      "Spain      2477\n",
      "Name: Geography, dtype: int64\n",
      "\n",
      "Пол\n",
      " Male      5457\n",
      "Female    4543\n",
      "Name: Gender, dtype: int64\n",
      "\n",
      "Уники в Tenure            [ 0.  1.  2.  3.  4.  5.  6.  7.  8.  9. 10.]\n",
      "Количество продуктов      [1 3 2 4]\n",
      "Есть кредитка (0, 1)      [7055, 2945]\n",
      "Активный (0, 1)           [5151, 4849]\n",
      "Ушедшие (0, 1)            [7963, 2037]\n"
     ]
    }
   ],
   "source": [
    "col_width = 25\n",
    "print(\"География\\n\", df.Geography.value_counts())\n",
    "print(\"\\nПол\\n\", df.Gender.value_counts())\n",
    "print(f\"\\n{'Уники в Tenure':<{col_width}}\", df.Tenure.sort_values().unique())\n",
    "print(f\"{'Количество продуктов':<{col_width}}\", df.NumOfProducts.unique())\n",
    "print(f\"{'Есть кредитка (0, 1)':<{col_width}}\", df.HasCrCard.value_counts().tolist())\n",
    "print(f\"{'Активный (0, 1)':<{col_width}}\", df.IsActiveMember.value_counts().tolist())\n",
    "print(f\"{'Ушедшие (0, 1)':<{col_width}}\", df.Exited.value_counts().tolist())\n"
   ]
  },
  {
   "cell_type": "markdown",
   "metadata": {},
   "source": [
    "- по географии – половина клиентов из Франции, примерно по 25% из Германии и Испании\n",
    "- по полу – небольшой перевес, мужчин 55%, женщин 45%\n",
    "- кредитная карта есть только у 30% пользователей\n",
    "- активные и неактивные пользователи примерно поровну 48% и 52% соответственно\n",
    "- ушедших клиентов примерно 20% от общего количества"
   ]
  },
  {
   "cell_type": "markdown",
   "metadata": {},
   "source": [
    "Выделим признаки"
   ]
  },
  {
   "cell_type": "code",
   "execution_count": 14,
   "metadata": {},
   "outputs": [],
   "source": [
    "features = df.drop('Exited',axis=1)\n",
    "target = df['Exited']"
   ]
  },
  {
   "cell_type": "markdown",
   "metadata": {},
   "source": [
    "Проверим баланс классов в целевом признаке"
   ]
  },
  {
   "cell_type": "code",
   "execution_count": 15,
   "metadata": {
    "scrolled": true
   },
   "outputs": [
    {
     "name": "stdout",
     "output_type": "stream",
     "text": [
      "0    79.6%\n",
      "1    20.4%\n"
     ]
    }
   ],
   "source": [
    "print((target.value_counts(normalize=True).mul(100).round(1).astype(str)+'%').to_string(index=True))"
   ]
  },
  {
   "cell_type": "markdown",
   "metadata": {},
   "source": [
    "- разделим данные на обучающую, валидационную и тестовую выборки в пропорции 3:1:1\n",
    "- будем делить данные с параметром stratify чтобы соблюдать баланс во всех выборках"
   ]
  },
  {
   "cell_type": "code",
   "execution_count": 16,
   "metadata": {},
   "outputs": [],
   "source": [
    "features_train, features_secondary, target_train, target_secondary = train_test_split(\n",
    "                                                                            features, \n",
    "                                                                            target, \n",
    "                                                                            test_size=0.4,\n",
    "                                                                            stratify=target,\n",
    "                                                                            random_state=random_state)\n",
    "\n",
    "features_valid, features_test, target_valid, target_test = train_test_split(\n",
    "                                                                            features_secondary, \n",
    "                                                                            target_secondary,\n",
    "                                                                            test_size=0.5,\n",
    "                                                                            stratify=target_secondary,\n",
    "                                                                            random_state=random_state)\n"
   ]
  },
  {
   "cell_type": "markdown",
   "metadata": {},
   "source": [
    "Подготовим преобразование признаков на основе обучающей выборки\n",
    "- числовые признаки\n",
    "- категориальные признаки пол и географию\n"
   ]
  },
  {
   "cell_type": "code",
   "execution_count": 17,
   "metadata": {},
   "outputs": [
    {
     "data": {
      "text/plain": [
       "array(['x0_Male', 'x1_Germany', 'x1_Spain'], dtype=object)"
      ]
     },
     "execution_count": 17,
     "metadata": {},
     "output_type": "execute_result"
    }
   ],
   "source": [
    "columns_to_scale = ['CreditScore','Age','Balance','EstimatedSalary','Tenure','NumOfProducts']\n",
    "scaler = StandardScaler()\n",
    "scaled = scaler.fit(features_train[columns_to_scale])\n",
    "\n",
    "columns_to_encode = ['Gender','Geography']\n",
    "ohe = OneHotEncoder(drop='first',sparse=False)\n",
    "ohe.fit(features_train[columns_to_encode])\n",
    "new_column_names = ohe.get_feature_names()\n",
    "new_column_names\n"
   ]
  },
  {
   "cell_type": "markdown",
   "metadata": {},
   "source": [
    "Преобразуем выборки – масштабируем и кодируем"
   ]
  },
  {
   "cell_type": "code",
   "execution_count": 18,
   "metadata": {
    "scrolled": false
   },
   "outputs": [],
   "source": [
    "features_to_transform = [features_train,features_valid,features_test]\n",
    "\n",
    "for features_set in features_to_transform:\n",
    "    features_set[columns_to_scale] = scaler.transform(features_set[columns_to_scale].copy())\n",
    "    features_set[new_column_names] = ohe.transform(features_set[columns_to_encode].copy())\n",
    "    features_set.drop(columns_to_encode,axis='columns',inplace=True)\n"
   ]
  },
  {
   "cell_type": "code",
   "execution_count": 19,
   "metadata": {},
   "outputs": [
    {
     "data": {
      "text/html": [
       "<div>\n",
       "<style scoped>\n",
       "    .dataframe tbody tr th:only-of-type {\n",
       "        vertical-align: middle;\n",
       "    }\n",
       "\n",
       "    .dataframe tbody tr th {\n",
       "        vertical-align: top;\n",
       "    }\n",
       "\n",
       "    .dataframe thead th {\n",
       "        text-align: right;\n",
       "    }\n",
       "</style>\n",
       "<table border=\"1\" class=\"dataframe\">\n",
       "  <thead>\n",
       "    <tr style=\"text-align: right;\">\n",
       "      <th></th>\n",
       "      <th>CreditScore</th>\n",
       "      <th>Age</th>\n",
       "      <th>Tenure</th>\n",
       "      <th>Balance</th>\n",
       "      <th>NumOfProducts</th>\n",
       "      <th>HasCrCard</th>\n",
       "      <th>IsActiveMember</th>\n",
       "      <th>EstimatedSalary</th>\n",
       "      <th>x0_Male</th>\n",
       "      <th>x1_Germany</th>\n",
       "      <th>x1_Spain</th>\n",
       "    </tr>\n",
       "  </thead>\n",
       "  <tbody>\n",
       "    <tr>\n",
       "      <th>6851</th>\n",
       "      <td>-1.283897</td>\n",
       "      <td>0.008566</td>\n",
       "      <td>1.449637</td>\n",
       "      <td>0.330105</td>\n",
       "      <td>0.783996</td>\n",
       "      <td>1</td>\n",
       "      <td>0</td>\n",
       "      <td>-0.084061</td>\n",
       "      <td>0.0</td>\n",
       "      <td>1.0</td>\n",
       "      <td>0.0</td>\n",
       "    </tr>\n",
       "    <tr>\n",
       "      <th>7026</th>\n",
       "      <td>0.271537</td>\n",
       "      <td>-1.139895</td>\n",
       "      <td>-0.001572</td>\n",
       "      <td>-1.220584</td>\n",
       "      <td>0.783996</td>\n",
       "      <td>0</td>\n",
       "      <td>1</td>\n",
       "      <td>0.264021</td>\n",
       "      <td>0.0</td>\n",
       "      <td>0.0</td>\n",
       "      <td>0.0</td>\n",
       "    </tr>\n",
       "    <tr>\n",
       "      <th>5705</th>\n",
       "      <td>-0.236571</td>\n",
       "      <td>0.104271</td>\n",
       "      <td>-0.001572</td>\n",
       "      <td>1.692794</td>\n",
       "      <td>0.783996</td>\n",
       "      <td>1</td>\n",
       "      <td>1</td>\n",
       "      <td>0.515344</td>\n",
       "      <td>1.0</td>\n",
       "      <td>1.0</td>\n",
       "      <td>0.0</td>\n",
       "    </tr>\n",
       "    <tr>\n",
       "      <th>9058</th>\n",
       "      <td>-1.874962</td>\n",
       "      <td>0.869911</td>\n",
       "      <td>-0.001572</td>\n",
       "      <td>1.032566</td>\n",
       "      <td>-0.919109</td>\n",
       "      <td>1</td>\n",
       "      <td>1</td>\n",
       "      <td>0.303842</td>\n",
       "      <td>0.0</td>\n",
       "      <td>0.0</td>\n",
       "      <td>1.0</td>\n",
       "    </tr>\n",
       "    <tr>\n",
       "      <th>9415</th>\n",
       "      <td>1.215167</td>\n",
       "      <td>0.391386</td>\n",
       "      <td>-1.089979</td>\n",
       "      <td>0.851257</td>\n",
       "      <td>0.783996</td>\n",
       "      <td>0</td>\n",
       "      <td>0</td>\n",
       "      <td>-1.400817</td>\n",
       "      <td>0.0</td>\n",
       "      <td>1.0</td>\n",
       "      <td>0.0</td>\n",
       "    </tr>\n",
       "  </tbody>\n",
       "</table>\n",
       "</div>"
      ],
      "text/plain": [
       "      CreditScore       Age    Tenure   Balance  NumOfProducts  HasCrCard  \\\n",
       "6851    -1.283897  0.008566  1.449637  0.330105       0.783996          1   \n",
       "7026     0.271537 -1.139895 -0.001572 -1.220584       0.783996          0   \n",
       "5705    -0.236571  0.104271 -0.001572  1.692794       0.783996          1   \n",
       "9058    -1.874962  0.869911 -0.001572  1.032566      -0.919109          1   \n",
       "9415     1.215167  0.391386 -1.089979  0.851257       0.783996          0   \n",
       "\n",
       "      IsActiveMember  EstimatedSalary  x0_Male  x1_Germany  x1_Spain  \n",
       "6851               0        -0.084061      0.0         1.0       0.0  \n",
       "7026               1         0.264021      0.0         0.0       0.0  \n",
       "5705               1         0.515344      1.0         1.0       0.0  \n",
       "9058               1         0.303842      0.0         0.0       1.0  \n",
       "9415               0        -1.400817      0.0         1.0       0.0  "
      ]
     },
     "execution_count": 19,
     "metadata": {},
     "output_type": "execute_result"
    }
   ],
   "source": [
    "features_train.head()"
   ]
  },
  {
   "cell_type": "markdown",
   "metadata": {},
   "source": [
    "## Исследование задачи"
   ]
  },
  {
   "cell_type": "markdown",
   "metadata": {},
   "source": [
    "Целевой признак Exited – категориальный, возможные значения 0 и 1, значит будем решать задачу бинарной классификации.\n",
    "\n",
    "Изучим модели-классификаторы:\n",
    "- случайный лес\n",
    "- логистическая регрессия\n"
   ]
  },
  {
   "cell_type": "markdown",
   "metadata": {},
   "source": [
    "### Проверка моделей "
   ]
  },
  {
   "cell_type": "markdown",
   "metadata": {},
   "source": [
    "1. Протестируем модели с разными параметрами и выберем лучшую по accuracy.\n",
    "2. Следующим шагом подберем порог для достижения наилучшего результата по f1_score\n"
   ]
  },
  {
   "cell_type": "markdown",
   "metadata": {},
   "source": [
    "Для сравнения моделей сделаю датафрейм, в котором сохраню все метрики испытаний с разными параметрами"
   ]
  },
  {
   "cell_type": "code",
   "execution_count": 19,
   "metadata": {},
   "outputs": [],
   "source": [
    "df_metrics = pd.DataFrame(columns=['model','threshold','accuracy','recall','precision','roc_auc','f1','params'])\n"
   ]
  },
  {
   "cell_type": "code",
   "execution_count": 20,
   "metadata": {},
   "outputs": [],
   "source": [
    "def model_test(model,params,features_train_local,target_train_local):\n",
    "    \n",
    "    # обучающие выборки будут меняться, а валидационные одни и те же, поэтому возьму глобально \n",
    "    \n",
    "    global features_valid,target_valid\n",
    "    \n",
    "    model_name = type(model).__name__\n",
    "\n",
    "    # подбор параметров на обучающей\n",
    "    \n",
    "    grid = GridSearchCV(model,params)\n",
    "    grid.fit(features_train_local,target_train_local)\n",
    "    print('\\nПараметры:')\n",
    "    [(print(f\"\\t{key:<20} {value}\")) for key,value in grid.best_params_.items()]\n",
    "\n",
    "    # обучаем заново с найденными параметрами\n",
    "    \n",
    "    model.set_params(**grid.best_params_)\n",
    "    model.fit(features_train_local,target_train_local)\n",
    "\n",
    "    # проверяем на валидационной\n",
    "\n",
    "    predicted_valid = model.predict(features_valid)\n",
    "\n",
    "    print('\\nМетрики:')\n",
    "    for metrics in ['accuracy','recall','precision','f1']:\n",
    "        print(f\"\\t{metrics:<20} {eval(metrics+'_score')(target_valid,predicted_valid):.2f}\")\n",
    "\n",
    "    # рисуем roc curve\n",
    "    \n",
    "    proba_valid = model.predict_proba(features_valid)[:, 1]\n",
    "    \n",
    "    fpr, tpr, thresholds = roc_curve(target_valid,proba_valid)\n",
    "    plt.figure(figsize=(4,4))\n",
    "    plt.plot([0, 1], [0, 1], linestyle='--')\n",
    "    plt.plot(fpr, tpr)\n",
    "    plt.xlim([0,1])\n",
    "    plt.ylim([0,1])\n",
    "    plt.xlabel(\"False Positive Rate\")\n",
    "    plt.ylabel(\"True Positive Rate\")\n",
    "    plt.title(f\"ROC-кривая {model_name}\")\n",
    "    plt.show()\n",
    "    \n",
    "    #  подбираем порог\n",
    "    \n",
    "    print('\\nПодбор порога:')\n",
    "    best_threshold = 0\n",
    "    best_f1_score = 0\n",
    "    for threshold in np.arange(0, 1, 0.01):\n",
    "        f1 = f1_score(target_valid,proba_valid>threshold)\n",
    "        if f1 > best_f1_score:\n",
    "            best_f1_score = f1\n",
    "            best_threshold = threshold\n",
    "    print(f\"\\t{'Threshold':<20} {best_threshold:.2f}\")\n",
    "\n",
    "    # итоговые метрики с найденным порогом\n",
    "    \n",
    "    all_metrics = {}\n",
    "    all_metrics['roc_auc'] = roc_auc_score(target_valid,proba_valid)\n",
    "    predicted_valid = proba_valid>best_threshold\n",
    "    for metrics in ['accuracy','recall','precision','f1']:\n",
    "        all_metrics[metrics] = eval(metrics+'_score')(target_valid,predicted_valid)\n",
    "\n",
    "    print(f'\\nМетрики с порогом {best_threshold}:')\n",
    "    [(print(f'\\t{key:<20} {value:.2f}')) for key,value in all_metrics.items()]\n",
    "\n",
    "    all_metrics['threshold'] = best_threshold\n",
    "    all_metrics['params'] = grid.best_params_\n",
    "\n",
    "    print()\n",
    "    \n",
    "    return all_metrics"
   ]
  },
  {
   "cell_type": "markdown",
   "metadata": {},
   "source": [
    "#### Случайный лес"
   ]
  },
  {
   "cell_type": "markdown",
   "metadata": {},
   "source": [
    "Подберем параметры \n",
    "- max_depth, \n",
    "- n_estimators \n",
    "- min_samples_leaf\n",
    "- class_weight"
   ]
  },
  {
   "cell_type": "code",
   "execution_count": 21,
   "metadata": {
    "scrolled": false
   },
   "outputs": [
    {
     "name": "stdout",
     "output_type": "stream",
     "text": [
      "\n",
      "Параметры:\n",
      "\tclass_weight         None\n",
      "\tmax_depth            9\n",
      "\tmin_samples_leaf     3\n",
      "\tn_estimators         60\n",
      "\trandom_state         42\n",
      "\n",
      "Метрики:\n",
      "\taccuracy             0.87\n",
      "\trecall               0.47\n",
      "\tprecision            0.80\n",
      "\tf1                   0.59\n"
     ]
    },
    {
     "data": {
      "image/png": "[encoded data removed]",
      "text/plain": [
       "<Figure size 288x288 with 1 Axes>"
      ]
     },
     "metadata": {
      "needs_background": "light"
     },
     "output_type": "display_data"
    },
    {
     "name": "stdout",
     "output_type": "stream",
     "text": [
      "\n",
      "Подбор порога:\n",
      "\tThreshold            0.31\n",
      "\n",
      "Метрики с порогом 0.31:\n",
      "\troc_auc              0.88\n",
      "\taccuracy             0.85\n",
      "\trecall               0.65\n",
      "\tprecision            0.64\n",
      "\tf1                   0.65\n",
      "\n",
      "CPU times: user 7min 5s, sys: 5.74 s, total: 7min 11s\n",
      "Wall time: 7min 11s\n"
     ]
    }
   ],
   "source": [
    "%%time\n",
    "\n",
    "all_metrics=model_test(RandomForestClassifier(),\n",
    "                       {'n_estimators': range (10,71,5),\n",
    "                        'max_depth': range (1,11,2),\n",
    "                        'min_samples_leaf': range (1,11,2),\n",
    "                        'class_weight': [None,'balanced'],\n",
    "                        'random_state': [random_state]\n",
    "                       },\n",
    "                       features_train,target_train\n",
    "                      )\n",
    "all_metrics['model'] = 'RandomForestClassifier base'\n",
    "df_metrics = df_metrics.append(all_metrics,ignore_index=True)\n"
   ]
  },
  {
   "cell_type": "markdown",
   "metadata": {},
   "source": [
    "Форма roc-кривой указывает на хорошее качество модели. Как видно из графика, при маленьких значениях порога быстро растет доля правильно найденных положительных объектов, но потом наклон кривой уменьшается и нарастает доля ложно-положительных объектов.\n",
    "\n",
    "Если установить порог на уровне 0.31, то соотношение истинных и ложных результатов будет наиболее сбалансированным."
   ]
  },
  {
   "cell_type": "markdown",
   "metadata": {},
   "source": [
    "#### Логистическая регрессия"
   ]
  },
  {
   "cell_type": "markdown",
   "metadata": {},
   "source": [
    "Проверим логистическую регрессию с разным параметром max_iter"
   ]
  },
  {
   "cell_type": "code",
   "execution_count": 22,
   "metadata": {},
   "outputs": [
    {
     "name": "stdout",
     "output_type": "stream",
     "text": [
      "\n",
      "Параметры:\n",
      "\tclass_weight         None\n",
      "\tmax_iter             100\n",
      "\trandom_state         42\n",
      "\n",
      "Метрики:\n",
      "\taccuracy             0.81\n",
      "\trecall               0.22\n",
      "\tprecision            0.62\n",
      "\tf1                   0.33\n"
     ]
    },
    {
     "data": {
      "image/png": "[encoded data removed]",
      "text/plain": [
       "<Figure size 288x288 with 1 Axes>"
      ]
     },
     "metadata": {
      "needs_background": "light"
     },
     "output_type": "display_data"
    },
    {
     "name": "stdout",
     "output_type": "stream",
     "text": [
      "\n",
      "Подбор порога:\n",
      "\tThreshold            0.27\n",
      "\n",
      "Метрики с порогом 0.27:\n",
      "\troc_auc              0.79\n",
      "\taccuracy             0.78\n",
      "\trecall               0.60\n",
      "\tprecision            0.47\n",
      "\tf1                   0.53\n",
      "\n",
      "CPU times: user 4.8 s, sys: 13.3 s, total: 18.1 s\n",
      "Wall time: 18.2 s\n"
     ]
    }
   ],
   "source": [
    "%%time\n",
    "\n",
    "all_metrics=model_test(LogisticRegression(),\n",
    "                       {'max_iter': range(100,1000,100),\n",
    "                        'class_weight': [None,'balanced'],\n",
    "                        'random_state': [random_state]\n",
    "                       },\n",
    "                       features_train,target_train\n",
    "                      )\n",
    "all_metrics['model'] = 'LogisticRegression base'\n",
    "df_metrics = df_metrics.append(all_metrics,ignore_index=True)\n"
   ]
  },
  {
   "cell_type": "markdown",
   "metadata": {},
   "source": [
    "До подбора порога у этой модели низкая полнота нахождения положительных объектов.\n",
    "После подбора полнота увеличилась, но упала и без того низкая точность. Не очень хороший результат. Более низкая и пологая форма roc-кривой также говорит о том, что качество этой модели ниже, чем у случайного леса."
   ]
  },
  {
   "cell_type": "markdown",
   "metadata": {},
   "source": [
    "#### Выбор наилучшей модели\n",
    "Случайный лес дает более качественный результат\n",
    "- параметры модели\n",
    "    * class_weight: None,\n",
    "    * max_depth: 9,\n",
    "    * min_samples_leaf: 3,\n",
    "    * n_estimators: 60\n",
    "- порог threshold 0.31\n"
   ]
  },
  {
   "cell_type": "markdown",
   "metadata": {},
   "source": [
    "## Борьба с дисбалансом"
   ]
  },
  {
   "cell_type": "markdown",
   "metadata": {},
   "source": [
    "### Увеличение выборки"
   ]
  },
  {
   "cell_type": "code",
   "execution_count": 23,
   "metadata": {},
   "outputs": [
    {
     "name": "stdout",
     "output_type": "stream",
     "text": [
      "0    79.6%\n",
      "1    20.4%\n"
     ]
    }
   ],
   "source": [
    "print((target.value_counts(normalize=True).mul(100).round(1).astype(str)+'%').to_string(index=True))\n"
   ]
  },
  {
   "cell_type": "markdown",
   "metadata": {},
   "source": [
    "Изначально у нас примерно 80% отрицательных признаков и 20% положительных. Попробуем увеличить количество положительных объектов с тренировочной выборке."
   ]
  },
  {
   "cell_type": "code",
   "execution_count": 24,
   "metadata": {},
   "outputs": [
    {
     "name": "stdout",
     "output_type": "stream",
     "text": [
      "Размер обучающей выборки (6000,)\n"
     ]
    }
   ],
   "source": [
    "print('Размер обучающей выборки',target_train.shape)"
   ]
  },
  {
   "cell_type": "code",
   "execution_count": 25,
   "metadata": {},
   "outputs": [
    {
     "name": "stdout",
     "output_type": "stream",
     "text": [
      "Баланс после увеличения выборки\n",
      "1    50.6%\n",
      "0    49.4%\n",
      "(9666,)\n"
     ]
    }
   ],
   "source": [
    "features_zeros = features_train[target_train == 0]\n",
    "features_ones = features_train[target_train == 1]\n",
    "\n",
    "target_zeros = target_train[target_train == 0]\n",
    "target_ones = target_train[target_train == 1]\n",
    "\n",
    "features_upsampled = pd.concat([features_zeros] + [features_ones] * 4)\n",
    "target_upsampled = pd.concat([target_zeros] + [target_ones] * 4)\n",
    "features_upsampled, target_upsampled = shuffle(features_upsampled, target_upsampled, random_state=random_state)\n",
    "\n",
    "print('Баланс после увеличения выборки')\n",
    "print((target_upsampled.value_counts(normalize=True).mul(100).round(1).astype(str)+'%').to_string(index=True))\n",
    "print(target_upsampled.shape)"
   ]
  },
  {
   "cell_type": "markdown",
   "metadata": {},
   "source": [
    "#### Случайный лес upsample"
   ]
  },
  {
   "cell_type": "code",
   "execution_count": 26,
   "metadata": {},
   "outputs": [
    {
     "name": "stdout",
     "output_type": "stream",
     "text": [
      "\n",
      "Параметры:\n",
      "\tmax_depth            9\n",
      "\tmin_samples_leaf     1\n",
      "\tn_estimators         70\n",
      "\trandom_state         42\n",
      "\n",
      "Метрики:\n",
      "\taccuracy             0.82\n",
      "\trecall               0.75\n",
      "\tprecision            0.53\n",
      "\tf1                   0.62\n"
     ]
    },
    {
     "data": {
      "image/png": "[encoded data removed]",
      "text/plain": [
       "<Figure size 288x288 with 1 Axes>"
      ]
     },
     "metadata": {
      "needs_background": "light"
     },
     "output_type": "display_data"
    },
    {
     "name": "stdout",
     "output_type": "stream",
     "text": [
      "\n",
      "Подбор порога:\n",
      "\tThreshold            0.54\n",
      "\n",
      "Метрики с порогом 0.54:\n",
      "\troc_auc              0.87\n",
      "\taccuracy             0.84\n",
      "\trecall               0.71\n",
      "\tprecision            0.58\n",
      "\tf1                   0.64\n",
      "\n",
      "CPU times: user 4min 40s, sys: 3.68 s, total: 4min 44s\n",
      "Wall time: 4min 44s\n"
     ]
    }
   ],
   "source": [
    "%%time\n",
    "\n",
    "all_metrics=model_test(RandomForestClassifier(),\n",
    "                       {'n_estimators': range (10,71,5),\n",
    "                        'max_depth': range (1,11,2),\n",
    "                        'min_samples_leaf': range (1,11,2),\n",
    "                        'random_state': [random_state]\n",
    "                       },\n",
    "                       features_upsampled,target_upsampled\n",
    "                      )\n",
    "all_metrics['model'] = 'RandomForestClassifier up'\n",
    "df_metrics = df_metrics.append(all_metrics,ignore_index=True)\n"
   ]
  },
  {
   "cell_type": "markdown",
   "metadata": {},
   "source": [
    "#### Логистическая регрессия upsample"
   ]
  },
  {
   "cell_type": "code",
   "execution_count": 27,
   "metadata": {
    "scrolled": false
   },
   "outputs": [
    {
     "name": "stdout",
     "output_type": "stream",
     "text": [
      "\n",
      "Параметры:\n",
      "\tmax_iter             100\n",
      "\trandom_state         42\n",
      "\n",
      "Метрики:\n",
      "\taccuracy             0.72\n",
      "\trecall               0.76\n",
      "\tprecision            0.40\n",
      "\tf1                   0.52\n"
     ]
    },
    {
     "data": {
      "image/png": "[encoded data removed]",
      "text/plain": [
       "<Figure size 288x288 with 1 Axes>"
      ]
     },
     "metadata": {
      "needs_background": "light"
     },
     "output_type": "display_data"
    },
    {
     "name": "stdout",
     "output_type": "stream",
     "text": [
      "\n",
      "Подбор порога:\n",
      "\tThreshold            0.61\n",
      "\n",
      "Метрики с порогом 0.61:\n",
      "\troc_auc              0.79\n",
      "\taccuracy             0.79\n",
      "\trecall               0.59\n",
      "\tprecision            0.49\n",
      "\tf1                   0.54\n",
      "\n",
      "CPU times: user 3.24 s, sys: 8.46 s, total: 11.7 s\n",
      "Wall time: 11.7 s\n"
     ]
    }
   ],
   "source": [
    "%%time\n",
    "\n",
    "all_metrics=model_test(LogisticRegression(),\n",
    "                       {'max_iter': range(100,1000,100),\n",
    "                        'random_state': [random_state]\n",
    "                       },\n",
    "                       features_upsampled,target_upsampled\n",
    "                      )\n",
    "all_metrics['model'] = 'LogisticRegression up'\n",
    "df_metrics = df_metrics.append(all_metrics,ignore_index=True)\n"
   ]
  },
  {
   "cell_type": "markdown",
   "metadata": {},
   "source": [
    "#### Результаты увеличения выборки\n",
    "Радикального прогресса не наблюдается. Плюс-минус небольшие подвижки между полнотой и точностью. "
   ]
  },
  {
   "cell_type": "markdown",
   "metadata": {},
   "source": [
    "### Уменьшение выборки"
   ]
  },
  {
   "cell_type": "code",
   "execution_count": 28,
   "metadata": {
    "scrolled": true
   },
   "outputs": [
    {
     "name": "stdout",
     "output_type": "stream",
     "text": [
      "Баланс после уменьшения\n",
      "1    50.6%\n",
      "0    49.4%\n",
      "(2416,)\n"
     ]
    }
   ],
   "source": [
    "features_downsampled = pd.concat([features_zeros.sample(frac=.25, random_state=random_state)] + [features_ones])\n",
    "target_downsampled = pd.concat([target_zeros.sample(frac=.25, random_state=random_state)] + [target_ones])\n",
    "\n",
    "features_downsampled,target_downsampled = shuffle(features_downsampled,target_downsampled,random_state=random_state)\n",
    "\n",
    "print('Баланс после уменьшения')\n",
    "print((target_downsampled.value_counts(normalize=True).mul(100).round(1).astype(str)+'%').to_string(index=True))\n",
    "print(target_downsampled.shape)\n"
   ]
  },
  {
   "cell_type": "markdown",
   "metadata": {},
   "source": [
    "#### Случайный лес downsample"
   ]
  },
  {
   "cell_type": "code",
   "execution_count": 29,
   "metadata": {
    "scrolled": false
   },
   "outputs": [
    {
     "name": "stdout",
     "output_type": "stream",
     "text": [
      "\n",
      "Параметры:\n",
      "\tmax_depth            9\n",
      "\tmin_samples_leaf     5\n",
      "\tn_estimators         60\n",
      "\trandom_state         42\n",
      "\n",
      "Метрики:\n",
      "\taccuracy             0.79\n",
      "\trecall               0.78\n",
      "\tprecision            0.49\n",
      "\tf1                   0.60\n"
     ]
    },
    {
     "data": {
      "image/png": "[encoded data removed]",
      "text/plain": [
       "<Figure size 288x288 with 1 Axes>"
      ]
     },
     "metadata": {
      "needs_background": "light"
     },
     "output_type": "display_data"
    },
    {
     "name": "stdout",
     "output_type": "stream",
     "text": [
      "\n",
      "Подбор порога:\n",
      "\tThreshold            0.64\n",
      "\n",
      "Метрики с порогом 0.64:\n",
      "\troc_auc              0.87\n",
      "\taccuracy             0.86\n",
      "\trecall               0.62\n",
      "\tprecision            0.66\n",
      "\tf1                   0.63\n",
      "\n",
      "CPU times: user 2min 14s, sys: 2.2 s, total: 2min 17s\n",
      "Wall time: 2min 17s\n"
     ]
    }
   ],
   "source": [
    "%%time\n",
    "\n",
    "all_metrics=model_test(RandomForestClassifier(),\n",
    "                       {'n_estimators': range (10,71,5),\n",
    "                        'max_depth': range (1,11,2),\n",
    "                        'min_samples_leaf': range (1,11,2),\n",
    "                        'random_state': [random_state]\n",
    "                       },\n",
    "                       features_downsampled,target_downsampled\n",
    "                      )\n",
    "all_metrics['model'] = 'RandomForestClassifier down'\n",
    "df_metrics = df_metrics.append(all_metrics,ignore_index=True)\n"
   ]
  },
  {
   "cell_type": "markdown",
   "metadata": {},
   "source": [
    "####  Логистическая регрессия downsample"
   ]
  },
  {
   "cell_type": "code",
   "execution_count": 30,
   "metadata": {},
   "outputs": [
    {
     "name": "stdout",
     "output_type": "stream",
     "text": [
      "\n",
      "Параметры:\n",
      "\tmax_iter             100\n",
      "\trandom_state         42\n",
      "\n",
      "Метрики:\n",
      "\taccuracy             0.71\n",
      "\trecall               0.77\n",
      "\tprecision            0.40\n",
      "\tf1                   0.52\n"
     ]
    },
    {
     "data": {
      "image/png": "[encoded data removed]",
      "text/plain": [
       "<Figure size 288x288 with 1 Axes>"
      ]
     },
     "metadata": {
      "needs_background": "light"
     },
     "output_type": "display_data"
    },
    {
     "name": "stdout",
     "output_type": "stream",
     "text": [
      "\n",
      "Подбор порога:\n",
      "\tThreshold            0.60\n",
      "\n",
      "Метрики с порогом 0.6:\n",
      "\troc_auc              0.79\n",
      "\taccuracy             0.78\n",
      "\trecall               0.61\n",
      "\tprecision            0.47\n",
      "\tf1                   0.53\n",
      "\n",
      "CPU times: user 1.98 s, sys: 4.33 s, total: 6.32 s\n",
      "Wall time: 6.33 s\n"
     ]
    }
   ],
   "source": [
    "%%time\n",
    "\n",
    "all_metrics=model_test(LogisticRegression(),\n",
    "                       {'max_iter': range(100,1000,100),\n",
    "                        'random_state': [random_state]\n",
    "                       },\n",
    "                       features_downsampled,target_downsampled\n",
    "                      )\n",
    "all_metrics['model'] = 'LogisticRegression down'\n",
    "df_metrics = df_metrics.append(all_metrics,ignore_index=True)\n"
   ]
  },
  {
   "cell_type": "code",
   "execution_count": 31,
   "metadata": {
    "scrolled": false
   },
   "outputs": [
    {
     "data": {
      "text/html": [
       "<div>\n",
       "<style scoped>\n",
       "    .dataframe tbody tr th:only-of-type {\n",
       "        vertical-align: middle;\n",
       "    }\n",
       "\n",
       "    .dataframe tbody tr th {\n",
       "        vertical-align: top;\n",
       "    }\n",
       "\n",
       "    .dataframe thead th {\n",
       "        text-align: right;\n",
       "    }\n",
       "</style>\n",
       "<table border=\"1\" class=\"dataframe\">\n",
       "  <thead>\n",
       "    <tr style=\"text-align: right;\">\n",
       "      <th></th>\n",
       "      <th>model</th>\n",
       "      <th>threshold</th>\n",
       "      <th>accuracy</th>\n",
       "      <th>recall</th>\n",
       "      <th>precision</th>\n",
       "      <th>roc_auc</th>\n",
       "      <th>f1</th>\n",
       "      <th>params</th>\n",
       "    </tr>\n",
       "  </thead>\n",
       "  <tbody>\n",
       "    <tr>\n",
       "      <th>0</th>\n",
       "      <td>RandomForestClassifier base</td>\n",
       "      <td>0.31</td>\n",
       "      <td>0.8545</td>\n",
       "      <td>0.651961</td>\n",
       "      <td>0.640964</td>\n",
       "      <td>0.876569</td>\n",
       "      <td>0.646416</td>\n",
       "      <td>{'class_weight': None, 'max_depth': 9, 'min_sa...</td>\n",
       "    </tr>\n",
       "    <tr>\n",
       "      <th>2</th>\n",
       "      <td>RandomForestClassifier up</td>\n",
       "      <td>0.54</td>\n",
       "      <td>0.8360</td>\n",
       "      <td>0.705882</td>\n",
       "      <td>0.580645</td>\n",
       "      <td>0.872141</td>\n",
       "      <td>0.637168</td>\n",
       "      <td>{'max_depth': 9, 'min_samples_leaf': 1, 'n_est...</td>\n",
       "    </tr>\n",
       "    <tr>\n",
       "      <th>4</th>\n",
       "      <td>RandomForestClassifier down</td>\n",
       "      <td>0.64</td>\n",
       "      <td>0.8555</td>\n",
       "      <td>0.615196</td>\n",
       "      <td>0.655352</td>\n",
       "      <td>0.866725</td>\n",
       "      <td>0.634640</td>\n",
       "      <td>{'max_depth': 9, 'min_samples_leaf': 5, 'n_est...</td>\n",
       "    </tr>\n",
       "    <tr>\n",
       "      <th>3</th>\n",
       "      <td>LogisticRegression up</td>\n",
       "      <td>0.61</td>\n",
       "      <td>0.7920</td>\n",
       "      <td>0.593137</td>\n",
       "      <td>0.491870</td>\n",
       "      <td>0.793844</td>\n",
       "      <td>0.537778</td>\n",
       "      <td>{'max_iter': 100, 'random_state': 42}</td>\n",
       "    </tr>\n",
       "    <tr>\n",
       "      <th>5</th>\n",
       "      <td>LogisticRegression down</td>\n",
       "      <td>0.60</td>\n",
       "      <td>0.7820</td>\n",
       "      <td>0.607843</td>\n",
       "      <td>0.473282</td>\n",
       "      <td>0.794079</td>\n",
       "      <td>0.532189</td>\n",
       "      <td>{'max_iter': 100, 'random_state': 42}</td>\n",
       "    </tr>\n",
       "    <tr>\n",
       "      <th>1</th>\n",
       "      <td>LogisticRegression base</td>\n",
       "      <td>0.27</td>\n",
       "      <td>0.7805</td>\n",
       "      <td>0.602941</td>\n",
       "      <td>0.470363</td>\n",
       "      <td>0.790795</td>\n",
       "      <td>0.528464</td>\n",
       "      <td>{'class_weight': None, 'max_iter': 100, 'rando...</td>\n",
       "    </tr>\n",
       "  </tbody>\n",
       "</table>\n",
       "</div>"
      ],
      "text/plain": [
       "                         model  threshold  accuracy    recall  precision  \\\n",
       "0  RandomForestClassifier base       0.31    0.8545  0.651961   0.640964   \n",
       "2    RandomForestClassifier up       0.54    0.8360  0.705882   0.580645   \n",
       "4  RandomForestClassifier down       0.64    0.8555  0.615196   0.655352   \n",
       "3        LogisticRegression up       0.61    0.7920  0.593137   0.491870   \n",
       "5      LogisticRegression down       0.60    0.7820  0.607843   0.473282   \n",
       "1      LogisticRegression base       0.27    0.7805  0.602941   0.470363   \n",
       "\n",
       "    roc_auc        f1                                             params  \n",
       "0  0.876569  0.646416  {'class_weight': None, 'max_depth': 9, 'min_sa...  \n",
       "2  0.872141  0.637168  {'max_depth': 9, 'min_samples_leaf': 1, 'n_est...  \n",
       "4  0.866725  0.634640  {'max_depth': 9, 'min_samples_leaf': 5, 'n_est...  \n",
       "3  0.793844  0.537778              {'max_iter': 100, 'random_state': 42}  \n",
       "5  0.794079  0.532189              {'max_iter': 100, 'random_state': 42}  \n",
       "1  0.790795  0.528464  {'class_weight': None, 'max_iter': 100, 'rando...  "
      ]
     },
     "execution_count": 31,
     "metadata": {},
     "output_type": "execute_result"
    }
   ],
   "source": [
    "df_metrics.sort_values('f1',ascending=False)"
   ]
  },
  {
   "cell_type": "markdown",
   "metadata": {},
   "source": [
    "Первые три места занимают модели случайного леса со значительным отрывом от логистической регрессии.\n",
    "\n",
    "Возможно, стоит обратить внимание на отличия в соотношении recall и precision.\n",
    "Если следовать логике задачи \"Банковские маркетологи посчитали: сохранять текущих клиентов дешевле, чем привлекать новых\" - recall приоритетнее, важнее выявить всех уходящих клиентов, они для бизнеса дороже чем возможная погрешность в precision. В таком случае можно было бы выбрать вторую позицию – случайный лес с обучением на увеличенной выборке.\n",
    "\n",
    "Но поскольку изначально в целях стояло получение модели с наивысшим f1_score, выбираем первый вариант."
   ]
  },
  {
   "cell_type": "markdown",
   "metadata": {},
   "source": [
    "## Тестирование модели"
   ]
  },
  {
   "cell_type": "markdown",
   "metadata": {},
   "source": [
    "Проверим выбранную модель на тестовой выборке"
   ]
  },
  {
   "cell_type": "code",
   "execution_count": 32,
   "metadata": {
    "scrolled": true
   },
   "outputs": [
    {
     "data": {
      "text/plain": [
       "{'class_weight': None,\n",
       " 'max_depth': 9,\n",
       " 'min_samples_leaf': 3,\n",
       " 'n_estimators': 60,\n",
       " 'random_state': 42}"
      ]
     },
     "execution_count": 32,
     "metadata": {},
     "output_type": "execute_result"
    }
   ],
   "source": [
    "best_params = df_metrics[df_metrics.model=='RandomForestClassifier base'].params.item()\n",
    "best_params\n"
   ]
  },
  {
   "cell_type": "code",
   "execution_count": 33,
   "metadata": {},
   "outputs": [
    {
     "data": {
      "text/plain": [
       "0.31"
      ]
     },
     "execution_count": 33,
     "metadata": {},
     "output_type": "execute_result"
    }
   ],
   "source": [
    "best_threshold = df_metrics[df_metrics.model=='RandomForestClassifier base'].threshold.item()\n",
    "best_threshold\n"
   ]
  },
  {
   "cell_type": "code",
   "execution_count": 34,
   "metadata": {},
   "outputs": [
    {
     "name": "stdout",
     "output_type": "stream",
     "text": [
      "roc_auc              0.86\n",
      "accuracy             0.84\n",
      "recall               0.61\n",
      "precision            0.62\n",
      "f1                   0.62\n"
     ]
    }
   ],
   "source": [
    "model = RandomForestClassifier()\n",
    "model.set_params(**best_params)\n",
    "model.fit(features_train,target_train)\n",
    "proba_test = model.predict_proba(features_test)[:, 1]\n",
    "print(f\"{'roc_auc':<20} {roc_auc_score(target_test,proba_test):.2f}\")\n",
    "predicted_test = proba_test > best_threshold \n",
    "for metrics in ['accuracy','recall','precision','f1']:\n",
    "    print(f\"{metrics:<20} {eval(metrics+'_score')(target_test,predicted_test):.2f}\")\n"
   ]
  },
  {
   "cell_type": "markdown",
   "metadata": {},
   "source": [
    "Испытания на тестовой выборке показали f1_score =0.62, что соответствует заданному условию."
   ]
  },
  {
   "cell_type": "markdown",
   "metadata": {},
   "source": [
    "### Итоги\n",
    "\n",
    "Были обучены модели классификации\n",
    "- случайный лес\n",
    "- логистическая регрессия\n",
    "\n",
    "Проведен подбор параметров\n",
    "- для получения наибольшей accuracy\n",
    "- подобран порог для наилучшей f1-меры\n",
    "\n",
    "Проведены испытания\n",
    "- с увеличением выборки\n",
    "- с уменьшение выборки\n",
    "\n",
    "В целом эффективность моделей случайного леса была выше чем логистической регрессии, что наглядно подтверждается более высокими графиками roc-кривой, при этом площадь фигуры auc-roc больше.\n",
    "\n",
    "В финальном графике roc-кривой видно что доля правильно найденных положительных объектов при низких уровнях порога увеличивается заметно быстрее чем растет доля ошибочных, при больших уровнях порога – доля ошибок начинает прирастать быстрее.\n",
    "\n",
    "По итогам испытаний выбрана наилучшая модель, отвечающая задачам бизнеса – выявление уходящих клиентов\n",
    "- RandomForestClassifier\n",
    "    * threshold = 0.31\n",
    "    * max_depth =  9\n",
    "    * min_samples_leaf =  3\n",
    "    * n_estimators =  60\n",
    "    * f1_score = 0.62 при финальном тестировании\n",
    "\n"
   ]
  },
  {
   "cell_type": "code",
   "execution_count": null,
   "metadata": {},
   "outputs": [],
   "source": []
  }
 ],
 "metadata": {
  "ExecuteTimeLog": [
   {
    "duration": 6,
    "start_time": "2022-12-08T17:07:03.202Z"
   },
   {
    "duration": 92,
    "start_time": "2022-12-08T17:07:03.210Z"
   },
   {
    "duration": 14,
    "start_time": "2022-12-08T17:07:03.303Z"
   },
   {
    "duration": 18,
    "start_time": "2022-12-08T17:07:03.319Z"
   },
   {
    "duration": 6,
    "start_time": "2022-12-08T17:07:03.339Z"
   },
   {
    "duration": 49,
    "start_time": "2022-12-08T17:07:03.346Z"
   },
   {
    "duration": 1563,
    "start_time": "2022-12-08T17:07:03.397Z"
   },
   {
    "duration": 8,
    "start_time": "2022-12-08T17:07:04.962Z"
   },
   {
    "duration": 1494,
    "start_time": "2022-12-08T17:07:04.972Z"
   },
   {
    "duration": 11,
    "start_time": "2022-12-08T17:07:06.468Z"
   },
   {
    "duration": 1456,
    "start_time": "2022-12-08T17:07:06.481Z"
   },
   {
    "duration": 5,
    "start_time": "2022-12-08T17:07:07.939Z"
   },
   {
    "duration": 15,
    "start_time": "2022-12-08T17:07:07.946Z"
   },
   {
    "duration": 6,
    "start_time": "2022-12-08T17:07:07.978Z"
   },
   {
    "duration": 24,
    "start_time": "2022-12-08T17:07:07.987Z"
   },
   {
    "duration": 15,
    "start_time": "2022-12-08T17:07:08.012Z"
   },
   {
    "duration": 17,
    "start_time": "2022-12-08T17:07:08.029Z"
   },
   {
    "duration": 0,
    "start_time": "2022-12-08T17:07:08.049Z"
   },
   {
    "duration": 0,
    "start_time": "2022-12-08T17:07:08.051Z"
   },
   {
    "duration": 0,
    "start_time": "2022-12-08T17:07:08.053Z"
   },
   {
    "duration": 1,
    "start_time": "2022-12-08T17:07:08.054Z"
   },
   {
    "duration": 0,
    "start_time": "2022-12-08T17:07:08.056Z"
   },
   {
    "duration": 0,
    "start_time": "2022-12-08T17:07:08.078Z"
   },
   {
    "duration": 0,
    "start_time": "2022-12-08T17:07:08.080Z"
   },
   {
    "duration": 0,
    "start_time": "2022-12-08T17:07:08.081Z"
   },
   {
    "duration": 0,
    "start_time": "2022-12-08T17:07:08.082Z"
   },
   {
    "duration": 0,
    "start_time": "2022-12-08T17:07:08.084Z"
   },
   {
    "duration": 0,
    "start_time": "2022-12-08T17:07:08.085Z"
   },
   {
    "duration": 0,
    "start_time": "2022-12-08T17:07:08.087Z"
   },
   {
    "duration": 0,
    "start_time": "2022-12-08T17:07:08.089Z"
   },
   {
    "duration": 0,
    "start_time": "2022-12-08T17:07:08.091Z"
   },
   {
    "duration": 0,
    "start_time": "2022-12-08T17:07:08.092Z"
   },
   {
    "duration": 0,
    "start_time": "2022-12-08T17:07:08.094Z"
   },
   {
    "duration": 0,
    "start_time": "2022-12-08T17:07:08.095Z"
   },
   {
    "duration": 11,
    "start_time": "2022-12-08T17:07:56.960Z"
   },
   {
    "duration": 1383,
    "start_time": "2022-12-08T17:08:08.709Z"
   },
   {
    "duration": 95,
    "start_time": "2022-12-08T17:08:10.094Z"
   },
   {
    "duration": 18,
    "start_time": "2022-12-08T17:08:10.191Z"
   },
   {
    "duration": 26,
    "start_time": "2022-12-08T17:08:10.211Z"
   },
   {
    "duration": 30,
    "start_time": "2022-12-08T17:08:10.239Z"
   },
   {
    "duration": 66,
    "start_time": "2022-12-08T17:08:10.271Z"
   },
   {
    "duration": 1569,
    "start_time": "2022-12-08T17:08:10.338Z"
   },
   {
    "duration": 5,
    "start_time": "2022-12-08T17:08:11.909Z"
   },
   {
    "duration": 1425,
    "start_time": "2022-12-08T17:08:11.916Z"
   },
   {
    "duration": 5,
    "start_time": "2022-12-08T17:08:13.343Z"
   },
   {
    "duration": 1393,
    "start_time": "2022-12-08T17:08:13.350Z"
   },
   {
    "duration": 5,
    "start_time": "2022-12-08T17:08:14.745Z"
   },
   {
    "duration": 27,
    "start_time": "2022-12-08T17:08:14.752Z"
   },
   {
    "duration": 6,
    "start_time": "2022-12-08T17:08:14.782Z"
   },
   {
    "duration": 19,
    "start_time": "2022-12-08T17:08:14.790Z"
   },
   {
    "duration": 160,
    "start_time": "2022-12-08T17:08:14.810Z"
   },
   {
    "duration": 20,
    "start_time": "2022-12-08T17:08:14.972Z"
   },
   {
    "duration": 51,
    "start_time": "2022-12-08T17:08:14.994Z"
   },
   {
    "duration": 5,
    "start_time": "2022-12-08T17:08:15.047Z"
   },
   {
    "duration": 27,
    "start_time": "2022-12-08T17:08:15.054Z"
   },
   {
    "duration": 435734,
    "start_time": "2022-12-08T17:08:15.083Z"
   },
   {
    "duration": 18801,
    "start_time": "2022-12-08T17:15:30.819Z"
   },
   {
    "duration": 6,
    "start_time": "2022-12-08T17:15:49.622Z"
   },
   {
    "duration": 7,
    "start_time": "2022-12-08T17:15:49.630Z"
   },
   {
    "duration": 18,
    "start_time": "2022-12-08T17:15:49.639Z"
   },
   {
    "duration": 284630,
    "start_time": "2022-12-08T17:15:49.659Z"
   },
   {
    "duration": 11909,
    "start_time": "2022-12-08T17:20:34.290Z"
   },
   {
    "duration": 12,
    "start_time": "2022-12-08T17:20:46.202Z"
   },
   {
    "duration": 135898,
    "start_time": "2022-12-08T17:20:46.216Z"
   },
   {
    "duration": 6320,
    "start_time": "2022-12-08T17:23:02.116Z"
   },
   {
    "duration": 15,
    "start_time": "2022-12-08T17:23:08.438Z"
   },
   {
    "duration": 17,
    "start_time": "2022-12-08T17:23:08.455Z"
   },
   {
    "duration": 12,
    "start_time": "2022-12-08T17:23:08.473Z"
   },
   {
    "duration": 348,
    "start_time": "2022-12-08T17:23:08.486Z"
   },
   {
    "duration": 1264,
    "start_time": "2022-12-08T17:26:12.118Z"
   },
   {
    "duration": 84,
    "start_time": "2022-12-08T17:26:13.384Z"
   },
   {
    "duration": 16,
    "start_time": "2022-12-08T17:26:13.469Z"
   },
   {
    "duration": 23,
    "start_time": "2022-12-08T17:26:13.487Z"
   },
   {
    "duration": 10,
    "start_time": "2022-12-08T17:26:13.512Z"
   },
   {
    "duration": 41,
    "start_time": "2022-12-08T17:26:13.524Z"
   },
   {
    "duration": 1524,
    "start_time": "2022-12-08T17:26:13.567Z"
   },
   {
    "duration": 5,
    "start_time": "2022-12-08T17:26:15.093Z"
   },
   {
    "duration": 1376,
    "start_time": "2022-12-08T17:26:15.099Z"
   },
   {
    "duration": 5,
    "start_time": "2022-12-08T17:26:16.478Z"
   },
   {
    "duration": 1365,
    "start_time": "2022-12-08T17:26:16.485Z"
   },
   {
    "duration": 5,
    "start_time": "2022-12-08T17:26:17.851Z"
   },
   {
    "duration": 55,
    "start_time": "2022-12-08T17:26:17.858Z"
   },
   {
    "duration": 40,
    "start_time": "2022-12-08T17:26:17.914Z"
   },
   {
    "duration": 32,
    "start_time": "2022-12-08T17:26:17.955Z"
   },
   {
    "duration": 165,
    "start_time": "2022-12-08T17:26:17.989Z"
   },
   {
    "duration": 26,
    "start_time": "2022-12-08T17:26:18.156Z"
   },
   {
    "duration": 106,
    "start_time": "2022-12-08T17:26:18.184Z"
   },
   {
    "duration": 5,
    "start_time": "2022-12-08T17:26:18.292Z"
   },
   {
    "duration": 48,
    "start_time": "2022-12-08T17:26:18.299Z"
   },
   {
    "duration": 431994,
    "start_time": "2022-12-08T17:26:18.349Z"
   },
   {
    "duration": 18156,
    "start_time": "2022-12-08T17:33:30.344Z"
   },
   {
    "duration": 5,
    "start_time": "2022-12-08T17:33:48.502Z"
   },
   {
    "duration": 7,
    "start_time": "2022-12-08T17:33:48.509Z"
   },
   {
    "duration": 15,
    "start_time": "2022-12-08T17:33:48.517Z"
   },
   {
    "duration": 284675,
    "start_time": "2022-12-08T17:33:48.533Z"
   },
   {
    "duration": 11713,
    "start_time": "2022-12-08T17:38:33.210Z"
   },
   {
    "duration": 12,
    "start_time": "2022-12-08T17:38:44.926Z"
   },
   {
    "duration": 137186,
    "start_time": "2022-12-08T17:38:44.940Z"
   },
   {
    "duration": 6337,
    "start_time": "2022-12-08T17:41:02.128Z"
   },
   {
    "duration": 21,
    "start_time": "2022-12-08T17:41:08.467Z"
   },
   {
    "duration": 13,
    "start_time": "2022-12-08T17:41:08.489Z"
   },
   {
    "duration": 12,
    "start_time": "2022-12-08T17:41:08.504Z"
   },
   {
    "duration": 343,
    "start_time": "2022-12-08T17:41:08.517Z"
   },
   {
    "duration": 1723,
    "start_time": "2022-12-09T17:48:47.895Z"
   },
   {
    "duration": 119,
    "start_time": "2022-12-09T17:48:50.979Z"
   },
   {
    "duration": 15,
    "start_time": "2022-12-09T17:48:51.806Z"
   },
   {
    "duration": 5,
    "start_time": "2022-12-09T17:48:52.517Z"
   },
   {
    "duration": 4,
    "start_time": "2022-12-09T17:48:52.668Z"
   },
   {
    "duration": 43,
    "start_time": "2022-12-09T17:48:53.569Z"
   },
   {
    "duration": 1455,
    "start_time": "2022-12-09T17:48:54.037Z"
   },
   {
    "duration": 9,
    "start_time": "2022-12-09T17:48:55.493Z"
   },
   {
    "duration": 1394,
    "start_time": "2022-12-09T17:48:55.503Z"
   },
   {
    "duration": 5,
    "start_time": "2022-12-09T17:48:56.900Z"
   },
   {
    "duration": 1274,
    "start_time": "2022-12-09T17:48:56.907Z"
   },
   {
    "duration": 5,
    "start_time": "2022-12-09T17:48:58.182Z"
   },
   {
    "duration": 21,
    "start_time": "2022-12-09T17:48:58.188Z"
   },
   {
    "duration": 4,
    "start_time": "2022-12-09T17:48:59.533Z"
   },
   {
    "duration": 5,
    "start_time": "2022-12-09T17:48:59.970Z"
   },
   {
    "duration": 17,
    "start_time": "2022-12-09T17:49:00.779Z"
   },
   {
    "duration": 13,
    "start_time": "2022-12-09T17:49:01.747Z"
   },
   {
    "duration": 40,
    "start_time": "2022-12-09T17:49:03.989Z"
   },
   {
    "duration": 14,
    "start_time": "2022-12-09T17:51:15.236Z"
   }
  ],
  "kernelspec": {
   "display_name": "Python 3 (ipykernel)",
   "language": "python",
   "name": "python3"
  },
  "language_info": {
   "codemirror_mode": {
    "name": "ipython",
    "version": 3
   },
   "file_extension": ".py",
   "mimetype": "text/x-python",
   "name": "python",
   "nbconvert_exporter": "python",
   "pygments_lexer": "ipython3",
   "version": "3.9.13"
  },
  "toc": {
   "base_numbering": 1,
   "nav_menu": {},
   "number_sections": true,
   "sideBar": true,
   "skip_h1_title": true,
   "title_cell": "Содержание",
   "title_sidebar": "Contents",
   "toc_cell": true,
   "toc_position": {},
   "toc_section_display": true,
   "toc_window_display": true
  }
 },
 "nbformat": 4,
 "nbformat_minor": 2
}
